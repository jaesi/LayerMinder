{
 "cells": [
  {
   "cell_type": "markdown",
   "metadata": {},
   "source": [
    "# 1. 라이브러리 불러오기"
   ]
  },
  {
   "cell_type": "code",
   "execution_count": 1,
   "metadata": {},
   "outputs": [],
   "source": [
    "import requests\n",
    "from dotenv import load_dotenv\n",
    "import matplotlib.pyplot as plt\n",
    "import os\n"
   ]
  },
  {
   "cell_type": "code",
   "execution_count": 2,
   "metadata": {},
   "outputs": [],
   "source": [
    "# dotenv로 stability_ai_api_key 가져오기\n",
    "load_dotenv()\n",
    "stability_key = os.getenv('STABILITYAI_API_KEY')\n",
    "# print(stability_key)"
   ]
  },
  {
   "cell_type": "markdown",
   "metadata": {},
   "source": [
    "# 2. 생성"
   ]
  },
  {
   "cell_type": "markdown",
   "metadata": {},
   "source": [
    "## 2.1. Image"
   ]
  },
  {
   "cell_type": "code",
   "execution_count": 3,
   "metadata": {},
   "outputs": [],
   "source": [
    "response = requests.post(\n",
    "    f\"https://api.stability.ai/v2beta/stable-image/generate/ultra\",\n",
    "    headers={\n",
    "        \"authorization\": stability_key,\n",
    "        \"accept\": \"image/*\"\n",
    "    },\n",
    "    files={\"none\": ''},\n",
    "    data={\n",
    "        \"prompt\": \"Lighthouse on a cliff overlooking the ocean\",\n",
    "        \"output_format\": \"png\",\n",
    "    },\n",
    ")\n",
    "\n",
    "if response.status_code == 200:\n",
    "    with open(\"./lighthouse.webp\", 'wb') as file:\n",
    "        file.write(response.content)\n",
    "else:\n",
    "    raise Exception(str(response.json()))"
   ]
  },
  {
   "cell_type": "markdown",
   "metadata": {},
   "source": [
    "## 2.2. Style"
   ]
  },
  {
   "cell_type": "code",
   "execution_count": 4,
   "metadata": {},
   "outputs": [],
   "source": [
    "output_nm = 0"
   ]
  },
  {
   "cell_type": "code",
   "execution_count": 33,
   "metadata": {},
   "outputs": [],
   "source": [
    "furniture_nm = 'combined_image_1&2'\n",
    "\n",
    "\n",
    "response = requests.post(\n",
    "    f\"https://api.stability.ai/v2beta/stable-image/control/style\",\n",
    "    headers={\n",
    "        \"authorization\": stability_key,\n",
    "        \"accept\": \"image/*\"\n",
    "    },\n",
    "    files={\n",
    "        # \"image\": open(f\"00_ref/{furniture_nm}.png\", \"rb\"),\n",
    "        \"image\": open(f\"88_output/{furniture_nm}.png\", \"rb\")\n",
    "    },\n",
    "    data={\n",
    "        \"prompt\": \"You are a professional furniture designer, you are designing a modern stool with a design from the image. Only create the furniture image with the white background which looks like a selling furniture thumbnail.\",\n",
    "        \"output_format\": \"png\"\n",
    "    },\n",
    ")\n",
    "\n",
    "if response.status_code == 200:\n",
    "    output_nm += 1\n",
    "    with open(f\"88_output/{furniture_nm}_{output_nm}.png\", 'wb') as file:\n",
    "        file.write(response.content)\n",
    "else:\n",
    "    raise Exception(str(response.json()))"
   ]
  },
  {
   "cell_type": "code",
   "execution_count": 9,
   "metadata": {},
   "outputs": [],
   "source": [
    "# i want to concat the images for a test \n",
    "import io\n",
    "from PIL import Image\n",
    "\n",
    "def image_concater(first_image, second_image, file_nm):\n",
    "    # 이미지 열기\n",
    "    image1 = Image.open(first_image)\n",
    "    image2 = Image.open(second_image)\n",
    "\n",
    "    # # 이미지 합치기 (가로)\n",
    "    new_image_width = image1.width + image2.width\n",
    "    new_image_height = max(image1.height, image2.height)\n",
    "    combined_image = Image.new('RGB', (new_image_width, new_image_height))\n",
    "\n",
    "    # 이미지 합치기 (세로)\n",
    "    # new_image_height = image1.height + image2.height\n",
    "    # new_image_width = max(image1.width, image2.width)\n",
    "    # combined_image = Image.new('RGB', (new_image_width, new_image_height))\n",
    "\n",
    "    # 이미지 붙이기\n",
    "    combined_image.paste(image1, (0, 0))\n",
    "    combined_image.paste(image2, (image1.width, 0))\n",
    "\n",
    "    # 이미지 붙이기 (세로)\n",
    "    # combined_image.paste(image1, (0, 0))\n",
    "    # combined_image.paste(image2, (0, image1.height))\n",
    "\n",
    "    combined_image.show()\n",
    "    # 합친 이미지를 파일로 저장\n",
    "    combined_image.save(f\"88_output/{file_nm}.png\")\n",
    "    print(\"Combined image saved\")"
   ]
  },
  {
   "cell_type": "code",
   "execution_count": 10,
   "metadata": {},
   "outputs": [
    {
     "name": "stdout",
     "output_type": "stream",
     "text": [
      "Combined image saved\n"
     ]
    }
   ],
   "source": [
    "# 이미지 파일 경로\n",
    "first_image_path = \"00_ref/you-cant-sit-with-us-unless-mus-design_dezeen_2364_hero-1.webp\"\n",
    "second_image_path = \"00_ref/02_old_furn/brown_desk_dangun.jpeg\"\n",
    "\n",
    "image_concater(first_image_path, second_image_path, \"red&brown_desk\")"
   ]
  },
  {
   "cell_type": "code",
   "execution_count": 12,
   "metadata": {},
   "outputs": [],
   "source": [
    "output_nm = 0\n"
   ]
  },
  {
   "cell_type": "code",
   "execution_count": 14,
   "metadata": {},
   "outputs": [],
   "source": [
    "\n",
    "prompt = ''' \n",
    "You are a professional furniture designer. \n",
    "The left side of the image is a reference(0.8) image, and the right side is a picture of an old piece of furniture. \n",
    "Reedesign(0.8) the furniture in the right image using the reference image on the left, \n",
    "while ensuring that the original(0.8) shape of the furniture is maintained and that it remains the same type of furniture. \n",
    "Which means that the furniture should still be a desk. And it has to be able to reform the furniture in the image on the right DIY.\n",
    "Create a single image of the newly designed furniture with a white(0.8) background that looks like a thumbnail for selling furniture.\n",
    "'''\n",
    "\n",
    "image_nm = \"red&brown_desk\"\n",
    "response = requests.post(\n",
    "    f\"https://api.stability.ai/v2beta/stable-image/control/style\",\n",
    "    headers={\n",
    "        \"authorization\": stability_key,\n",
    "        \"accept\": \"image/*\"\n",
    "    },\n",
    "    files={\n",
    "        \"image\": open(f\"88_output/{image_nm}.png\", \"rb\"),\n",
    "    },\n",
    "    data={\n",
    "        \"prompt\": prompt,\n",
    "        \"output_format\": \"png\"\n",
    "    },\n",
    ")\n",
    "\n",
    "if response.status_code == 200:\n",
    "    output_nm += 1\n",
    "    with open(f\"88_output/{image_nm}_{output_nm}.png\", 'wb') as file:\n",
    "        file.write(response.content)\n",
    "else:\n",
    "    raise Exception(str(response.json()))"
   ]
  },
  {
   "cell_type": "markdown",
   "metadata": {},
   "source": [
    "## 2.2.1. Adding Background"
   ]
  },
  {
   "cell_type": "code",
   "execution_count": 22,
   "metadata": {},
   "outputs": [],
   "source": [
    "furniture_nm = 'e520c98d560883193df2d112940cb6a1_1'\n",
    "\n",
    "\n",
    "response = requests.post(\n",
    "    f\"https://api.stability.ai/v2beta/stable-image/control/style\",\n",
    "    headers={\n",
    "        \"authorization\": stability_key,\n",
    "        \"accept\": \"image/*\"\n",
    "    },\n",
    "    files={\n",
    "        # \"image\": open(f\"00_ref/{furniture_nm}.png\", \"rb\"),\n",
    "        \"image\": open(f\"88_output/{furniture_nm}.png\", \"rb\")\n",
    "    },\n",
    "    data={\n",
    "        \"prompt\": \"Retain the furniture piece, stool(1) in its current form and position. Change only the background(1) to resemble a clean, bright yellow(1) studio setting with even lighting. Ensure the background change does not alter the appearance, color, or details of the furniture. The focus should remain on the furniture, with the background subtly enhancing its visibility. Ensure that shadows, reflections, and lighting are consistent with a white studio environment.\",\n",
    "        \"output_format\": \"png\",\n",
    "        \"negative_prompt\": \"DO NOT ADD any other furnitures. Do not alter, distort, or change the furniture itself in any way. Do not add any elements to the furniture or modify its appearance.\"\n",
    "    },\n",
    ")\n",
    "\n",
    "if response.status_code == 200:\n",
    "    output_nm += 1\n",
    "    with open(f\"88_output/{furniture_nm}_{output_nm}.png\", 'wb') as file:\n",
    "        file.write(response.content)\n",
    "else:\n",
    "    raise Exception(str(response.json()))"
   ]
  },
  {
   "cell_type": "markdown",
   "metadata": {},
   "source": [
    "### 2.2.1 Animal inspired furniture"
   ]
  },
  {
   "cell_type": "code",
   "execution_count": 17,
   "metadata": {},
   "outputs": [],
   "source": [
    "output_nm = 0"
   ]
  },
  {
   "cell_type": "code",
   "execution_count": 24,
   "metadata": {},
   "outputs": [],
   "source": [
    "\n",
    "animal_prompt = '''\n",
    "You are a professional furniture designer, you are designing a modern stool with a design from the image.\n",
    "The image is animal, and you are going to make a stool inspired by the animal.\n",
    "But Don't use the animal image directly into the furniture design, Just use the animal image as an inspiration.\n",
    "Only create the furniture image with the white background which looks like a selling furniture thumbnail.\n",
    "'''\n",
    "\n",
    "response = requests.post(\n",
    "    f\"https://api.stability.ai/v2beta/stable-image/control/style\",\n",
    "    headers={\n",
    "        \"authorization\": stability_key,\n",
    "        \"accept\": \"image/*\"\n",
    "    },\n",
    "    files={\n",
    "        \"image\": open(\"00_ref/01_animal/tican_1.jpg\", \"rb\"),\n",
    "    },\n",
    "    data={\n",
    "        \"prompt\": animal_prompt,\n",
    "        \"negative_prompt\" : 'Never use the animal image directly into the furniture design.',\n",
    "        \"output_format\": \"png\"\n",
    "    },\n",
    ")\n",
    "\n",
    "if response.status_code == 200:\n",
    "    output_nm += 1\n",
    "    with open(f\"88_output/set_{output_nm}.png\", 'wb') as file:\n",
    "        file.write(response.content)\n",
    "else:\n",
    "    raise Exception(str(response.json()))"
   ]
  },
  {
   "cell_type": "markdown",
   "metadata": {},
   "source": [
    "## 2.3. Stable Fast 3D"
   ]
  },
  {
   "cell_type": "code",
   "execution_count": 12,
   "metadata": {},
   "outputs": [],
   "source": [
    "response = requests.post(\n",
    "    f\"https://api.stability.ai/v2beta/3d/stable-fast-3d\",\n",
    "    headers={\n",
    "        \"authorization\": stability_key,\n",
    "    },\n",
    "    files={\n",
    "        \"image\": open(\"00_ref/8b3886b2a901acf7e88e96786d4e0448.png\", \"rb\")\n",
    "    },\n",
    "    data={},\n",
    ")\n",
    "\n",
    "if response.status_code == 200:\n",
    "    with open(\"88_output/3D/3d-furniture-test.glb\", 'wb') as file:\n",
    "        file.write(response.content)\n",
    "else:\n",
    "    raise Exception(str(response.json()))"
   ]
  }
 ],
 "metadata": {
  "kernelspec": {
   "display_name": ".venv",
   "language": "python",
   "name": "python3"
  },
  "language_info": {
   "codemirror_mode": {
    "name": "ipython",
    "version": 3
   },
   "file_extension": ".py",
   "mimetype": "text/x-python",
   "name": "python",
   "nbconvert_exporter": "python",
   "pygments_lexer": "ipython3",
   "version": "3.11.2"
  }
 },
 "nbformat": 4,
 "nbformat_minor": 2
}
