{
 "cells": [
  {
   "cell_type": "markdown",
   "metadata": {},
   "source": [
    "# 1. 라이브러리 불러오기"
   ]
  },
  {
   "cell_type": "code",
   "execution_count": 1,
   "metadata": {},
   "outputs": [],
   "source": [
    "import requests\n",
    "from dotenv import load_dotenv\n",
    "import matplotlib.pyplot as plt\n",
    "import os\n"
   ]
  },
  {
   "cell_type": "code",
   "execution_count": 2,
   "metadata": {},
   "outputs": [],
   "source": [
    "# dotenv로 stability_ai_api_key 가져오기\n",
    "load_dotenv()\n",
    "stability_key = os.getenv('STABILITYAI_API_KEY')\n",
    "# print(stability_key)"
   ]
  },
  {
   "cell_type": "markdown",
   "metadata": {},
   "source": [
    "# 2. 생성"
   ]
  },
  {
   "cell_type": "markdown",
   "metadata": {},
   "source": [
    "## 2.1. Image"
   ]
  },
  {
   "cell_type": "code",
   "execution_count": 9,
   "metadata": {},
   "outputs": [],
   "source": [
    "response = requests.post(\n",
    "    f\"https://api.stability.ai/v2beta/stable-image/generate/ultra\",\n",
    "    headers={\n",
    "        \"authorization\": stability_key,\n",
    "        \"accept\": \"image/*\"\n",
    "    },\n",
    "    files={\"none\": ''},\n",
    "    data={\n",
    "        \"prompt\": \"Lighthouse on a cliff overlooking the ocean\",\n",
    "        \"output_format\": \"png\",\n",
    "    },\n",
    ")\n",
    "\n",
    "if response.status_code == 200:\n",
    "    with open(\"./lighthouse.webp\", 'wb') as file:\n",
    "        file.write(response.content)\n",
    "else:\n",
    "    raise Exception(str(response.json()))"
   ]
  },
  {
   "cell_type": "markdown",
   "metadata": {},
   "source": [
    "## 2.2. Style"
   ]
  },
  {
   "cell_type": "code",
   "execution_count": 3,
   "metadata": {},
   "outputs": [],
   "source": [
    "output_nm = 0"
   ]
  },
  {
   "cell_type": "code",
   "execution_count": 8,
   "metadata": {},
   "outputs": [],
   "source": [
    "furniture_nm = 'e520c98d560883193df2d112940cb6a1'\n",
    "\n",
    "\n",
    "response = requests.post(\n",
    "    f\"https://api.stability.ai/v2beta/stable-image/control/style\",\n",
    "    headers={\n",
    "        \"authorization\": stability_key,\n",
    "        \"accept\": \"image/*\"\n",
    "    },\n",
    "    files={\n",
    "        \"image\": open(f\"00_ref/{furniture_nm}.png\", \"rb\"),\n",
    "        \"image\": open(f\"00_ref/73a9db79dd2e76678eb2da2f8868c793.png\", \"rb\")\n",
    "    },\n",
    "    data={\n",
    "        \"prompt\": \"You are a professional furniture designer, you are designing a modern stool with a design from the image. Only create the furniture image with the white background which looks like a selling furniture thumbnail.\",\n",
    "        \"output_format\": \"png\"\n",
    "    },\n",
    ")\n",
    "\n",
    "if response.status_code == 200:\n",
    "    output_nm += 1\n",
    "    with open(f\"88_output/{furniture_nm}_{output_nm}.png\", 'wb') as file:\n",
    "        file.write(response.content)\n",
    "else:\n",
    "    raise Exception(str(response.json()))"
   ]
  },
  {
   "cell_type": "markdown",
   "metadata": {},
   "source": [
    "## 2.3. Stable Fast 3D"
   ]
  },
  {
   "cell_type": "code",
   "execution_count": 12,
   "metadata": {},
   "outputs": [],
   "source": [
    "response = requests.post(\n",
    "    f\"https://api.stability.ai/v2beta/3d/stable-fast-3d\",\n",
    "    headers={\n",
    "        \"authorization\": stability_key,\n",
    "    },\n",
    "    files={\n",
    "        \"image\": open(\"00_ref/8b3886b2a901acf7e88e96786d4e0448.png\", \"rb\")\n",
    "    },\n",
    "    data={},\n",
    ")\n",
    "\n",
    "if response.status_code == 200:\n",
    "    with open(\"88_output/3D/3d-furniture-test.glb\", 'wb') as file:\n",
    "        file.write(response.content)\n",
    "else:\n",
    "    raise Exception(str(response.json()))"
   ]
  }
 ],
 "metadata": {
  "kernelspec": {
   "display_name": ".venv",
   "language": "python",
   "name": "python3"
  },
  "language_info": {
   "codemirror_mode": {
    "name": "ipython",
    "version": 3
   },
   "file_extension": ".py",
   "mimetype": "text/x-python",
   "name": "python",
   "nbconvert_exporter": "python",
   "pygments_lexer": "ipython3",
   "version": "3.11.2"
  }
 },
 "nbformat": 4,
 "nbformat_minor": 2
}
