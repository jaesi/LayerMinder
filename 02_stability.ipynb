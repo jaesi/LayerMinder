{
 "cells": [
  {
   "cell_type": "markdown",
   "metadata": {},
   "source": [
    "# 1. 라이브러리 불러오기"
   ]
  },
  {
   "cell_type": "code",
   "execution_count": 23,
   "metadata": {},
   "outputs": [],
   "source": [
    "import requests\n",
    "from dotenv import load_dotenv\n",
    "import matplotlib.pyplot as plt\n",
    "import os\n",
    "\n",
    "\n",
    "from openai import OpenAI\n",
    "from IPython.display import Image\n",
    "import urllib\n",
    "import base64\n",
    "import io\n",
    "from PIL import Image\n",
    "import random"
   ]
  },
  {
   "cell_type": "code",
   "execution_count": 8,
   "metadata": {},
   "outputs": [],
   "source": [
    "# dotenv로 stability_ai_api_key 가져오기\n",
    "load_dotenv()\n",
    "stability_key = os.getenv('STABILITYAI_API_KEY')\n",
    "# 환경 변수에서 API Key 읽기\n",
    "api_key = os.getenv(\"OPENAI_API_KEY\")\n",
    "\n",
    "# OpenAI API Key 설정\n",
    "OpenAI.api_key = api_key\n",
    "\n",
    "# print(stability_key)"
   ]
  },
  {
   "cell_type": "markdown",
   "metadata": {},
   "source": [
    "# 2. 생성"
   ]
  },
  {
   "cell_type": "markdown",
   "metadata": {},
   "source": [
    "## 2.0. 전처리"
   ]
  },
  {
   "cell_type": "code",
   "execution_count": 12,
   "metadata": {},
   "outputs": [],
   "source": [
    "# 이미지 결합 함수\n",
    "\n",
    "def image_concater(first_image, second_image, file_nm, hv):\n",
    "    # 이미지 열기\n",
    "    image1 = Image.open(first_image)\n",
    "    image2 = Image.open(second_image)\n",
    "    \n",
    "    # 가로 버젼\n",
    "    if hv == 'h':\n",
    "        # 이미지 합치기 (가로)\n",
    "        new_image_width = image1.width + image2.width\n",
    "        new_image_height = max(image1.height, image2.height)\n",
    "        combined_image = Image.new('RGB', (new_image_width, new_image_height))\n",
    "\n",
    "        # 이미지 붙이기\n",
    "        combined_image.paste(image1, (0, 0))\n",
    "        combined_image.paste(image2, (image1.width, 0))\n",
    "\n",
    "    # 세로 버젼\n",
    "    elif hv == 'v':\n",
    "        # 이미지 합치기 (세로)\n",
    "        new_image_height = image1.height + image2.height\n",
    "        new_image_width = max(image1.width, image2.width)\n",
    "        combined_image = Image.new('RGB', (new_image_width, new_image_height))\n",
    "\n",
    "        # 이미지 붙이기\n",
    "        combined_image.paste(image1, (0, 0))\n",
    "        combined_image.paste(image2, (0, image1.height))\n",
    "\n",
    "    combined_image.show()\n",
    "    # 합친 이미지를 파일로 저장\n",
    "    # 폴더 생성하기\n",
    "    os.makedirs(f\"88_output/{file_nm}\", exist_ok=True)\n",
    "    combined_image.save(f\"88_output/{file_nm}/{file_nm}.png\")\n",
    "    print(\"Combined image saved\")"
   ]
  },
  {
   "cell_type": "code",
   "execution_count": 14,
   "metadata": {},
   "outputs": [
    {
     "name": "stdout",
     "output_type": "stream",
     "text": [
      "Combined image saved\n"
     ]
    }
   ],
   "source": [
    "# 이미지 파일 경로\n",
    "first_image_path = \"00_ref/03_materials/111630_67539_4056.jpg\"\n",
    "second_image_path = \"00_ref/03_materials/image2.webp\"\n",
    "\n",
    "image_concater(first_image_path, second_image_path, \"materials\", 'h')"
   ]
  },
  {
   "cell_type": "markdown",
   "metadata": {},
   "source": [
    "## 2.1. Image"
   ]
  },
  {
   "cell_type": "code",
   "execution_count": 3,
   "metadata": {},
   "outputs": [],
   "source": [
    "response = requests.post(\n",
    "    f\"https://api.stability.ai/v2beta/stable-image/generate/ultra\",\n",
    "    headers={\n",
    "        \"authorization\": stability_key,\n",
    "        \"accept\": \"image/*\"\n",
    "    },\n",
    "    files={\"none\": ''},\n",
    "    data={\n",
    "        \"prompt\": \"Lighthouse on a cliff overlooking the ocean\",\n",
    "        \"output_format\": \"png\",\n",
    "    },\n",
    ")\n",
    "\n",
    "if response.status_code == 200:\n",
    "    with open(\"./lighthouse.webp\", 'wb') as file:\n",
    "        file.write(response.content)\n",
    "else:\n",
    "    raise Exception(str(response.json()))"
   ]
  },
  {
   "cell_type": "markdown",
   "metadata": {},
   "source": [
    "## 2.2. Style"
   ]
  },
  {
   "cell_type": "code",
   "execution_count": 33,
   "metadata": {},
   "outputs": [],
   "source": [
    "# 카운터\n",
    "counter = 0"
   ]
  },
  {
   "cell_type": "code",
   "execution_count": 38,
   "metadata": {},
   "outputs": [],
   "source": [
    "# SET\n",
    "import datetime\n",
    "\n",
    "def set_image(image_nm):\n",
    "    # 현재 시간을 기반으로 파일 이름 생성\n",
    "    timestamp = datetime.datetime.now().strftime(\"%Y%m%d_%H%M%S%f\")\n",
    "    output_path = f\"88_output/{image_nm}/{image_nm}_{timestamp}.png\"\n",
    "\n",
    "    prompt = ''' \n",
    "    You are a professional furniture designer. You are tasked with creating a collection that blends two different materials shown in the reference images. \n",
    "    Create a new furniture piece that combines the two materials in a harmonious way. Chair, Table, or Lamp etc you could design any furniture piece.\n",
    "    The design should feature a flat top and incorporate free-flowing curves.\n",
    "    Produce a single image of the newly designed furniture piece, set against a white background, styled as a thumbnail suitable for furniture sales.\n",
    "    '''\n",
    "\n",
    "    image_path = f\"88_output/{image_nm}/{image_nm}.png\"\n",
    "    response = requests.post(\n",
    "        \"https://api.stability.ai/v2beta/stable-image/control/style\",\n",
    "        headers={\n",
    "            \"authorization\": stability_key,\n",
    "            \"accept\": \"image/*\"\n",
    "        },\n",
    "        files={\n",
    "            \"image\": open(image_path, \"rb\"),\n",
    "        },\n",
    "        data={\n",
    "            \"prompt\": prompt,\n",
    "            \"output_format\": \"png\"\n",
    "        },\n",
    "    )\n",
    "\n",
    "    if response.status_code == 200:\n",
    "        with open(output_path, 'wb') as file:\n",
    "            file.write(response.content)\n",
    "        print(f\"Image saved successfully: {output_path}\")\n",
    "    else:\n",
    "        raise Exception(str(response.json()))"
   ]
  },
  {
   "cell_type": "code",
   "execution_count": 66,
   "metadata": {},
   "outputs": [],
   "source": [
    "# STOOL\n",
    "prompt = ''' \n",
    "You are a professional furniture designer. In this image there are two different furnitures.\n",
    "Use the reference images and Mix two different materials in reference images to design a stool with a flat top and lots of free-curve(0.8).\n",
    "Create just ONE(0.9) furniture image of the newly designed furniture with a white(0.8) background that looks like a thumbnail for selling furniture.\n",
    "'''\n",
    "\n",
    "image_nm = \"ruggys\"\n",
    "response = requests.post(\n",
    "    f\"https://api.stability.ai/v2beta/stable-image/control/style\",\n",
    "    headers={\n",
    "        \"authorization\": stability_key,\n",
    "        \"accept\": \"image/*\"\n",
    "    },\n",
    "    files={\n",
    "        \"image\": open(f\"88_output/{image_nm}.png\", \"rb\"),\n",
    "    },\n",
    "    data={\n",
    "        \"prompt\": prompt,\n",
    "        \"output_format\": \"png\"\n",
    "    },\n",
    ")\n",
    "\n",
    "if response.status_code == 200:\n",
    "    counter += 1\n",
    "    with open(f\"88_output/{image_nm}_{counter}.png\", 'wb') as file:\n",
    "        file.write(response.content)\n",
    "else:\n",
    "    raise Exception(str(response.json()))"
   ]
  },
  {
   "cell_type": "code",
   "execution_count": 67,
   "metadata": {},
   "outputs": [],
   "source": [
    "# COFFEE TABLE\n",
    "\n",
    "prompt = ''' \n",
    "You are a professional furniture designer. In this image there are two different furnitures.\n",
    "Use the reference images to design a Coffee Table with a flat top and free curve.\n",
    "Create a single furniture image of the newly designed furniture with a white(0.8) background that looks like a thumbnail for selling furniture.\n",
    "'''\n",
    "\n",
    "image_nm = \"ruggys\"\n",
    "response = requests.post(\n",
    "    f\"https://api.stability.ai/v2beta/stable-image/control/style\",\n",
    "    headers={\n",
    "        \"authorization\": stability_key,\n",
    "        \"accept\": \"image/*\"\n",
    "    },\n",
    "    files={\n",
    "        \"image\": open(f\"88_output/{image_nm}.png\", \"rb\"),\n",
    "    },\n",
    "    data={\n",
    "        \"prompt\": prompt,\n",
    "        \"output_format\": \"png\"\n",
    "    },\n",
    ")\n",
    "\n",
    "if response.status_code == 200:\n",
    "    counter += 1\n",
    "    with open(f\"88_output/{image_nm}_{counter}.png\", 'wb') as file:\n",
    "        file.write(response.content)\n",
    "else:\n",
    "    raise Exception(str(response.json()))"
   ]
  },
  {
   "cell_type": "markdown",
   "metadata": {},
   "source": [
    "- 각 모델별로 스타일을 부여해보면 어떨까? 오히려 모더니즘 적인 사진을 넣어주는 게 좋을 수 있다. \n",
    "- 사진 별로 나뉘게 되는 것일까? 사진 풀에서 랜덤으로 고르거나, 프롬프트 엔지니어링 하면 어떨까? 좋은 엔지니어링 사례들을 보면 좋을 것"
   ]
  },
  {
   "cell_type": "code",
   "execution_count": 35,
   "metadata": {},
   "outputs": [
    {
     "name": "stdout",
     "output_type": "stream",
     "text": [
      "Combined image saved\n"
     ]
    }
   ],
   "source": [
    "# 이미지 세트를 기반으로 이미지 생성\n",
    "# 1. 이미지 폴더 불러오고 거기서 무작위로 이미지 두 개를 선택\n",
    "# 2. 두 이미지를 결합\n",
    "# 3. 결합된 이미지를 Stability AI에 전송\n",
    "# 4. 결과 이미지를 저장\n",
    "\n",
    "def random_pair(image_set):\n",
    "    # 이미지 폴더 불러오기\n",
    "    image_folder = f\"00_ref/{image_set}\"\n",
    "    image_files = os.listdir(image_folder)\n",
    "\n",
    "    # 이미지 두 개를 무작위로 선택\n",
    "    first_image = random.choice(image_files)\n",
    "    image_files.remove(first_image)\n",
    "    second_image = random.choice(image_files)\n",
    "\n",
    "    # 이미지 결합\n",
    "    try:\n",
    "        image_concater(f\"{image_folder}/{first_image}\", f\"{image_folder}/{second_image}\", image_set, 'h')\n",
    "    except:\n",
    "        image_concater(f\"{image_folder}/{first_image}\", f\"{image_folder}/{second_image}\", image_set, 'v')\n",
    "\n",
    "# 이미지 생성\n",
    "random_pair(\"modernism\")"
   ]
  },
  {
   "cell_type": "code",
   "execution_count": 39,
   "metadata": {},
   "outputs": [
    {
     "name": "stdout",
     "output_type": "stream",
     "text": [
      "Image saved successfully: 88_output/modernism/modernism_20240913_021139370672.png\n"
     ]
    }
   ],
   "source": [
    "# 가구 세트 생성\n",
    "set_image(\"modernism\")"
   ]
  },
  {
   "cell_type": "markdown",
   "metadata": {},
   "source": [
    "## 2.2.1. Adding Background"
   ]
  },
  {
   "cell_type": "code",
   "execution_count": 22,
   "metadata": {},
   "outputs": [],
   "source": [
    "furniture_nm = 'e520c98d560883193df2d112940cb6a1_1'\n",
    "\n",
    "\n",
    "response = requests.post(\n",
    "    f\"https://api.stability.ai/v2beta/stable-image/control/style\",\n",
    "    headers={\n",
    "        \"authorization\": stability_key,\n",
    "        \"accept\": \"image/*\"\n",
    "    },\n",
    "    files={\n",
    "        # \"image\": open(f\"00_ref/{furniture_nm}.png\", \"rb\"),\n",
    "        \"image\": open(f\"88_output/{furniture_nm}.png\", \"rb\")\n",
    "    },\n",
    "    data={\n",
    "        \"prompt\": \"Retain the furniture piece, stool(1) in its current form and position. Change only the background(1) to resemble a clean, bright yellow(1) studio setting with even lighting. Ensure the background change does not alter the appearance, color, or details of the furniture. The focus should remain on the furniture, with the background subtly enhancing its visibility. Ensure that shadows, reflections, and lighting are consistent with a white studio environment.\",\n",
    "        \"output_format\": \"png\",\n",
    "        \"negative_prompt\": \"DO NOT ADD any other furnitures. Do not alter, distort, or change the furniture itself in any way. Do not add any elements to the furniture or modify its appearance.\"\n",
    "    },\n",
    ")\n",
    "\n",
    "if response.status_code == 200:\n",
    "    counter += 1\n",
    "    with open(f\"88_output/{furniture_nm}_{counter}.png\", 'wb') as file:\n",
    "        file.write(response.content)\n",
    "else:\n",
    "    raise Exception(str(response.json()))"
   ]
  },
  {
   "cell_type": "markdown",
   "metadata": {},
   "source": [
    "### 2.2.1 Animal inspired furniture"
   ]
  },
  {
   "cell_type": "code",
   "execution_count": 17,
   "metadata": {},
   "outputs": [],
   "source": [
    "output_nm = 0"
   ]
  },
  {
   "cell_type": "code",
   "execution_count": 24,
   "metadata": {},
   "outputs": [],
   "source": [
    "\n",
    "animal_prompt = '''\n",
    "You are a professional furniture designer, you are designing a modern stool with a design from the image.\n",
    "The image is animal, and you are going to make a stool inspired by the animal.\n",
    "But Don't use the animal image directly into the furniture design, Just use the animal image as an inspiration.\n",
    "Only create the furniture image with the white background which looks like a selling furniture thumbnail.\n",
    "'''\n",
    "\n",
    "response = requests.post(\n",
    "    f\"https://api.stability.ai/v2beta/stable-image/control/style\",\n",
    "    headers={\n",
    "        \"authorization\": stability_key,\n",
    "        \"accept\": \"image/*\"\n",
    "    },\n",
    "    files={\n",
    "        \"image\": open(\"00_ref/01_animal/tican_1.jpg\", \"rb\"),\n",
    "    },\n",
    "    data={\n",
    "        \"prompt\": animal_prompt,\n",
    "        \"negative_prompt\" : 'Never use the animal image directly into the furniture design.',\n",
    "        \"output_format\": \"png\"\n",
    "    },\n",
    ")\n",
    "\n",
    "if response.status_code == 200:\n",
    "    counter += 1\n",
    "    with open(f\"88_output/set_{counter}.png\", 'wb') as file:\n",
    "        file.write(response.content)\n",
    "else:\n",
    "    raise Exception(str(response.json()))"
   ]
  },
  {
   "cell_type": "markdown",
   "metadata": {},
   "source": [
    "## 2.3. Stable Fast 3D"
   ]
  },
  {
   "cell_type": "code",
   "execution_count": 12,
   "metadata": {},
   "outputs": [],
   "source": [
    "response = requests.post(\n",
    "    f\"https://api.stability.ai/v2beta/3d/stable-fast-3d\",\n",
    "    headers={\n",
    "        \"authorization\": stability_key,\n",
    "    },\n",
    "    files={\n",
    "        \"image\": open(\"00_ref/8b3886b2a901acf7e88e96786d4e0448.png\", \"rb\")\n",
    "    },\n",
    "    data={},\n",
    ")\n",
    "\n",
    "if response.status_code == 200:\n",
    "    with open(\"88_output/3D/3d-furniture-test.glb\", 'wb') as file:\n",
    "        file.write(response.content)\n",
    "else:\n",
    "    raise Exception(str(response.json()))"
   ]
  },
  {
   "cell_type": "markdown",
   "metadata": {},
   "source": [
    "## 2.4. 배경 지우기"
   ]
  },
  {
   "cell_type": "code",
   "execution_count": 36,
   "metadata": {},
   "outputs": [],
   "source": [
    "img_nm = 'stone&silver_12'\n",
    "response = requests.post(\n",
    "    f\"https://api.stability.ai/v2beta/stable-image/edit/remove-background\",\n",
    "    headers={\n",
    "        \"authorization\": stability_key,\n",
    "        \"accept\": \"image/*\"\n",
    "    },\n",
    "    files={\n",
    "        \"image\": open(\"88_output/stone&silver_12.png\", \"rb\")\n",
    "    },\n",
    "    data={\n",
    "        \"output_format\": \"png\"\n",
    "    },\n",
    ")\n",
    "\n",
    "if response.status_code == 200:\n",
    "    with open(f\"88_output/{img_nm}_back_removed.png\", 'wb') as file:\n",
    "        file.write(response.content)\n",
    "else:\n",
    "    raise Exception(str(response.json()))"
   ]
  },
  {
   "cell_type": "code",
   "execution_count": 12,
   "metadata": {},
   "outputs": [],
   "source": [
    "\n",
    "response = requests.post(\n",
    "    f\"https://api.stability.ai/v2beta/stable-image/edit/outpaint\",\n",
    "    headers={\n",
    "        \"authorization\": stability_key,\n",
    "        \"accept\": \"image/*\"\n",
    "    },\n",
    "    files={\n",
    "        \"image\": open(\"88_output/back_removed.png\", \"rb\")\n",
    "    },\n",
    "    data={\n",
    "        \"left\": 200,\n",
    "        \"down\": 200,\n",
    "        \"output_format\": \"png\"\n",
    "    },\n",
    ")\n",
    "\n",
    "if response.status_code == 200:\n",
    "    with open(\"88_output/back_removed_and_added.png\", 'wb') as file:\n",
    "        file.write(response.content)\n",
    "else:\n",
    "    raise Exception(str(response.json()))"
   ]
  },
  {
   "cell_type": "code",
   "execution_count": 14,
   "metadata": {},
   "outputs": [],
   "source": [
    "# Inpainiting\n",
    "\n",
    "response = requests.post(\n",
    "    f\"https://api.stability.ai/v2beta/stable-image/edit/inpaint\",\n",
    "    headers={\n",
    "        \"authorization\": stability_key,\n",
    "        \"accept\": \"image/*\"\n",
    "    },\n",
    "    files={\n",
    "        \"image\": open(\"88_output/ignant-design-kodai-iwamoto-plastic-blowing-01-1440x1700_3.png\", \"rb\"), # 배경\n",
    "        \"mask\": open(\"88_output/back_removed.png\", \"rb\"), # 마스크\n",
    "    },\n",
    "    data={\n",
    "        \"prompt\": \"coffee table\",\n",
    "        \"output_format\": \"png\",\n",
    "    },\n",
    ")\n",
    "\n",
    "if response.status_code == 200:\n",
    "    with open(\"88_output/filled_with_mask.png\", 'wb') as file:\n",
    "        file.write(response.content)\n",
    "else:\n",
    "    raise Exception(str(response.json()))"
   ]
  },
  {
   "cell_type": "markdown",
   "metadata": {},
   "source": [
    "# 3. 도면화"
   ]
  },
  {
   "cell_type": "code",
   "execution_count": 6,
   "metadata": {},
   "outputs": [],
   "source": [
    "# 이미지 → 도면 설명글로 전환 \n",
    "# 상판\n",
    "def describe_furn(url):\n",
    "  client = OpenAI()\n",
    "\n",
    "  prompt = '''\n",
    "  Please provide a detailed description of the furniture in the image, including materials, colors, sizes, and thicknesses for each part of the furniture. All measurements should be in millimeters (mm). Prioritize the top surface of the furniture for initial drafting. Describe the shape of the top surface as accurately as possible, including all dimensions and details.\n",
    "\n",
    "  Focus on each part of the furniture, providing specific information on:\n",
    "\n",
    "  1. Top Surface: Material, color, shape, dimensions, and thickness.\n",
    "  2. Legs: Material, color, height, width, and thickness.\n",
    "  3. Frame: Material, color, dimensions, and thickness.\n",
    "  4. Additional Elements: Any other parts, like shelves or drawers, with their materials, colors, dimensions, and thicknesses.\n",
    "\n",
    "  Make sure the description is precise, detailed, and comprehensive to ensure the drawing captures all the essential characteristics of the furniture.\n",
    "  '''\n",
    "\n",
    "  response = client.chat.completions.create(\n",
    "    model=\"gpt-4o\",\n",
    "    messages=[\n",
    "      {\"role\": \"system\", \"content\": \"You are a furniture designer.\"},\n",
    "      {\n",
    "        \"role\": \"user\",\n",
    "        \"content\": [\n",
    "          {\"type\": \"text\", \"text\": prompt},\n",
    "          {\n",
    "            \"type\": \"image_url\",\n",
    "            \"image_url\": {\n",
    "              \"url\":url,\n",
    "            },\n",
    "          },\n",
    "        ],\n",
    "      }\n",
    "    ],\n",
    "    max_tokens=500,\n",
    "  )\n",
    "\n",
    "  return response.choices[0].message.content\n"
   ]
  },
  {
   "cell_type": "code",
   "execution_count": null,
   "metadata": {},
   "outputs": [],
   "source": [
    "# 출력\n",
    "description = response.choices[0].message.content\n",
    "print(description)"
   ]
  },
  {
   "cell_type": "code",
   "execution_count": 7,
   "metadata": {},
   "outputs": [],
   "source": [
    "def create_furniture_top_view(description):\n",
    "    drawing_prompt = '''\n",
    "    With the description provided,I want to create a top-view drawing of the furniture in the image using shapely.\n",
    "    And the visualizing with matplotlib. In a code format.\n",
    "    The drawing should be based on the detailed description of each part of the furniture, including the materials, colors, sizes, and thicknesses in millimeters (mm).\n",
    "    1. Draw subplots for each part of the furniture.\n",
    "    2. Draw the top surface, legs, frame, and additional elements.\n",
    "    3. Add dimensions and labels to each part of the furniture.\n",
    "    4. Add the description at the side about colors and line styles to distinguish each component.\n",
    "    '''\n",
    "\n",
    "    completion = client.chat.completions.create(\n",
    "        model=\"gpt-4o\",\n",
    "        messages=[\n",
    "            {\"role\": \"system\", \"content\": \"You are a professional furniture designer.\"},\n",
    "            {\n",
    "                \"role\": \"user\",\n",
    "                \"content\": description + drawing_prompt\n",
    "            }\n",
    "        ],\n",
    "        stream=True\n",
    "    )\n",
    "\n",
    "    for chunk in completion:\n",
    "        print(\n",
    "            chunk.choices[0].delta.content,\n",
    "            end=\"\"\n",
    "            )\n"
   ]
  },
  {
   "cell_type": "code",
   "execution_count": 8,
   "metadata": {},
   "outputs": [
    {
     "data": {
      "text/plain": [
       "\"Certainly! Here's a detailed description of the coffee table in the image:\\n\\n### 1. Top Surface:\\n- **Material:** Marble or a similar stone material with a natural, polished finish.\\n- **Color:** Light beige with subtle marble veining patterns.\\n- **Shape:** Rectangular.\\n- **Dimensions:**\\n  - **Length:** Approximately 1200 mm\\n  - **Width:** Approximately 800 mm\\n  - **Thickness:** Approximately 40 mm\\n- **Details:** The top surface has a smooth, polished finish with natural stone patterning. The corners are sharp, and there are no visible rounded edges.\\n\\n### 2. Legs:\\n- **Material:** Metal, likely steel or iron with a matte finish.\\n- **Color:** Black.\\n- **Shape and Dimensions:**\\n  - **Height:** Approximately 400 mm\\n  - **Width (each leg):** 100 mm\\n  - **Thickness:** 40 mm\\n  - **Design:** The legs have a modern, geometric U-shape, with part of the leg structure extending over the top surface for an integrated look. This creates an L-shaped profile when viewed from the side.\\n\\n### 3. Frame:\\n- **Material:** The same metal as the legs, likely steel or iron.\\n- **Color:** Black.\\n- **Dimensions and Details:**\\n  - There isn't an explicit frame around the top surface, but the legs serve as partial support, wrapping over the top surface at each corner.\\n  - **Thickness:** The same as the legs, approximately 40 mm, to ensure structural integrity and aesthetic coherence.\\n\\n### 4. Additional Elements:\\n- **Other Components:** There don't appear to be any additional shelves or drawers. The design is minimalist, focusing on the large, flat stone surface and the sturdy geometric legs.\\n\\nThis design highlights a sleek, modern aesthetic with a combination of natural stone and industrial metal. The black supports offer a striking contrast to the light beige top, enhancing the table's visual appeal. The dimensions provided are estimated based on visual assessment and should be verified for precise manufacturing.\""
      ]
     },
     "execution_count": 8,
     "metadata": {},
     "output_type": "execute_result"
    }
   ],
   "source": [
    "# 두번째 이미지\n",
    "url = 'https://i.postimg.cc/FKCw2d5W/bbca96cf1dde0388e65df2867a54e9c1.jpg'\n",
    "describe = describe_furn(url)\n",
    "describe"
   ]
  },
  {
   "cell_type": "code",
   "execution_count": null,
   "metadata": {},
   "outputs": [],
   "source": [
    "create_furniture_top_view(describe)"
   ]
  },
  {
   "cell_type": "code",
   "execution_count": null,
   "metadata": {},
   "outputs": [],
   "source": [
    "# Plot 2번째 이미지\n",
    "from shapely.geometry import Polygon\n",
    "import matplotlib.pyplot as plt\n",
    "import matplotlib.patches as patches\n",
    "\n",
    "# Function to add a rectangle to a subplot\n",
    "def add_rectangle(ax, xy, width, height, **kwargs):\n",
    "    rect = patches.Rectangle(xy, width, height, **kwargs)\n",
    "    ax.add_patch(rect)\n",
    "\n",
    "\n",
    "# Set up the drawing space\n",
    "fig, ax = plt.subplots()\n",
    "\n",
    "# Define the dimensions\n",
    "top_surface_length = 1200\n",
    "top_surface_width = 800\n",
    "top_surface_thickness = 40\n",
    "leg_height = 300\n",
    "leg_width = 100\n",
    "leg_thickness = 20\n",
    "leg_horizontal_extension = 100\n",
    "\n",
    "# Define colors and materials\n",
    "color_top_surface = 'beige'\n",
    "color_vein = 'brown'\n",
    "color_legs = 'black'\n",
    "\n",
    "# Define the top surface\n",
    "top_surface = Polygon([\n",
    "    (0, 0),\n",
    "    (top_surface_length, 0),\n",
    "    (top_surface_length, top_surface_width),\n",
    "    (0, top_surface_width)\n",
    "])\n",
    "\n",
    "# Define legs positions\n",
    "legs = [\n",
    "    (0, 0),\n",
    "    (top_surface_length - leg_width, 0),\n",
    "    (top_surface_length - leg_width, top_surface_width - leg_width),\n",
    "    (0, top_surface_width - leg_width)\n",
    "]\n",
    "\n",
    "# Plot the top surface\n",
    "add_rectangle(ax, (0, 0), top_surface_length, top_surface_width, edgecolor='brown', facecolor='beige', linewidth=2, linestyle='-')\n",
    "\n",
    "# Plot L-shaped legs\n",
    "for leg in legs:\n",
    "    add_rectangle(ax, leg, leg_horizontal_extension, leg_thickness, edgecolor='black', facecolor='black')\n",
    "    add_rectangle(ax, leg, leg_thickness, leg_height, edgecolor='black', facecolor='black')\n",
    "\n",
    "# Add labels and annotations\n",
    "ax.text(top_surface_length / 2, -50, f\"{top_surface_length} mm\", ha='center', va='center')\n",
    "ax.text(top_surface_length + 20, top_surface_width / 2, f\"{top_surface_width} mm\", ha='center', va='center', rotation=90)\n",
    "\n",
    "for leg in legs:\n",
    "    ax.text(leg[0] + leg_horizontal_extension / 2, leg[1] + leg_thickness + 10, f\"Leg Extension: {leg_horizontal_extension} mm\", ha='center')\n",
    "    ax.text(leg[0] + leg_thickness + 10, leg[1] + leg_height / 2, f\"Leg Height: {leg_height} mm\", ha='center', rotation=90)\n",
    "\n",
    "# Configure plot limits and aspect ratio\n",
    "ax.set_xlim(-100, top_surface_length + 100)\n",
    "ax.set_ylim(-100, top_surface_width + 100)\n",
    "ax.set_aspect('equal', 'box')\n",
    "ax.axis('off')\n",
    "\n",
    "# Add description of colors and elements\n",
    "ax.legend([\n",
    "    patches.Patch(color='beige', label='Top Surface: Faux Marble'),\n",
    "    patches.Patch(color='black', label='Legs: Matte Black Metal')\n",
    "], loc='upper right')\n",
    "\n",
    "# Show plot\n",
    "plt.show()\n"
   ]
  }
 ],
 "metadata": {
  "kernelspec": {
   "display_name": ".venv",
   "language": "python",
   "name": "python3"
  },
  "language_info": {
   "codemirror_mode": {
    "name": "ipython",
    "version": 3
   },
   "file_extension": ".py",
   "mimetype": "text/x-python",
   "name": "python",
   "nbconvert_exporter": "python",
   "pygments_lexer": "ipython3",
   "version": "3.11.2"
  }
 },
 "nbformat": 4,
 "nbformat_minor": 2
}
